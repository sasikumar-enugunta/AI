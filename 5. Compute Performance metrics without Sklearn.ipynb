{
  "nbformat": 4,
  "nbformat_minor": 0,
  "metadata": {
    "colab": {
      "name": "5_Performance_metrics_Instructions.ipynb",
      "provenance": [],
      "collapsed_sections": [],
      "machine_shape": "hm"
    },
    "kernelspec": {
      "name": "python3",
      "display_name": "Python 3"
    },
    "language_info": {
      "codemirror_mode": {
        "name": "ipython",
        "version": 3
      },
      "file_extension": ".py",
      "mimetype": "text/x-python",
      "name": "python",
      "nbconvert_exporter": "python",
      "pygments_lexer": "ipython3",
      "version": "3.6.5"
    },
    "accelerator": "TPU"
  },
  "cells": [
    {
      "cell_type": "markdown",
      "metadata": {
        "colab_type": "text",
        "id": "s0Ej_bXyQvnV"
      },
      "source": [
        "# Compute performance metrics for the given Y and Y_score without sklearn"
      ]
    },
    {
      "cell_type": "code",
      "metadata": {
        "colab_type": "code",
        "id": "4CHb6NE7Qvnc",
        "colab": {}
      },
      "source": [
        "import numpy as np\n",
        "import pandas as pd\n",
        "# other than these two you should not import any other packages"
      ],
      "execution_count": 0,
      "outputs": []
    },
    {
      "cell_type": "markdown",
      "metadata": {
        "colab_type": "text",
        "id": "KbsWXuDaQvnq"
      },
      "source": [
        "<pre>\n",
        "<font color='red'><b>A.</b></font> Compute performance metrics for the given data <strong>5_a.csv</strong>\n",
        "   <b>Note 1:</b> in this data you can see number of positive points >> number of negatives points\n",
        "   <b>Note 2:</b> use pandas or numpy to read the data from <b>5_a.csv</b>\n",
        "   <b>Note 3:</b> you need to derive the class labels from given score</pre> $y^{pred}= \\text{[0 if y_score < 0.5 else 1]}$\n",
        "\n",
        "<pre>\n",
        "<ol>\n",
        "<li> Compute Confusion Matrix </li>\n",
        "<li> Compute F1 Score </li>\n",
        "<li> Compute AUC Score, you need to compute different thresholds and for each threshold compute tpr,fpr and then use               numpy.trapz(tpr_array, fpr_array) <a href='https://stackoverflow.com/q/53603376/4084039'>https://stackoverflow.com/q/53603376/4084039</a>, <a href='https://stackoverflow.com/a/39678975/4084039'>https://stackoverflow.com/a/39678975/4084039</a> Note: it should be numpy.trapz(tpr_array, fpr_array) not numpy.trapz(fpr_array, tpr_array)</li>\n",
        "<li> Compute Accuracy Score </li>\n",
        "</ol>\n",
        "</pre>"
      ]
    },
    {
      "cell_type": "code",
      "metadata": {
        "colab_type": "code",
        "id": "WaFLW7oBQvnt",
        "outputId": "d3956fd6-b91d-4b23-eb98-6d70a41020fb",
        "colab": {
          "base_uri": "https://localhost:8080/",
          "height": 397
        }
      },
      "source": [
        "# write your code here\n",
        "data = pd.read_csv('5_a.csv')\n",
        "\n",
        "# appending new data frame y_ as predicted values from probability score\n",
        "list1 = np.zeros(data.shape[0])\n",
        "\n",
        "idx = 0\n",
        "for index, row in data.iterrows():\n",
        "    if row['proba'] >= 0.5:\n",
        "        list1[idx] = 1\n",
        "    idx += 1\n",
        "\n",
        "data['y_'] = list1\n",
        "\n",
        "# new dataframe with only y and y_\n",
        "df = data[['y', 'y_']]\n",
        "\n",
        "# computing confusion matrix\n",
        "def compute_metrics(dataF):\n",
        "    TP = TN = FP = FN = 0\n",
        "    for index, row in dataF.iterrows():\n",
        "        actual = int(row['y'])\n",
        "        pred = int(row['y_'])\n",
        "\n",
        "        if actual == 0 and pred == 0:\n",
        "            TN += 1\n",
        "        elif actual == 0 and pred == 1:\n",
        "            FP += 1\n",
        "        elif actual == 1 and pred == 0:\n",
        "            FN += 1\n",
        "        elif actual == 1 and pred == 1:\n",
        "            TP += 1\n",
        "\n",
        "    confusion_matrix = []\n",
        "    TN_FN = [TN] + [FN]\n",
        "    confusion_matrix.append(TN_FN)\n",
        "    FP_TP = [FP] + [TP]\n",
        "    confusion_matrix.append(FP_TP)\n",
        "    \n",
        "    precision = 0\n",
        "    recall = 0\n",
        "    f1_score = 0\n",
        "    accuracy = 0\n",
        "    if TP > 0:\n",
        "        precision = TP / (TP + FP)\n",
        "        recall = TP / (TP + FN)\n",
        "    if precision > 0 and recall > 0:\n",
        "        f1_score = (2 * (precision * recall)) / (precision + recall)\n",
        "    if TP > 0 or TN > 0:    \n",
        "        accuracy = (TP + TN) / (TP + TN + FP + FN)\n",
        "    \n",
        "    return confusion_matrix, precision, recall, f1_score, accuracy\n",
        "\n",
        "\n",
        "confusion_matrix, precision, recall, f1_score, accuracy = compute_metrics(df)\n",
        "\n",
        "print(\"Confusion matrix : \", confusion_matrix)\n",
        "print(\"Precision : \", precision)\n",
        "print(\"Recall : \", recall)\n",
        "print(\"F1-Score : \", f1_score)\n",
        "print(\"Accuracy : \", accuracy)\n",
        "\n",
        "# sorting dataframe according to proba column in ascending order\n",
        "data.sort_values(\"proba\", axis=0, ascending=True, inplace=True)\n",
        "\n",
        "# computing tpr and fpr\n",
        "def compute_tpr_fpr(data, tpr_list, fpr_list):\n",
        "    # reference from https://stackoverflow.com/questions/59863061/why-is-my-roc-curve-getting-plotted-in-reverse\n",
        "    for i in range(len(data)):\n",
        "        TP = TN = FP = FN = 0\n",
        "        data['y_pred'] = np.where(data['proba']<=data.iloc[i][1],0,1)\n",
        "        \n",
        "        TN = len(data[(data['y'] == 0) & (data['y_pred'] == 0)])\n",
        "        FN = len(data[(data['y'] == 1) & (data['y_pred'] == 0)])\n",
        "        FP = len(data[(data['y'] == 0) & (data['y_pred'] == 1)])\n",
        "        TP = len(data[(data['y'] == 1) & (data['y_pred'] == 1)])\n",
        "        \n",
        "        tpr_val = 0\n",
        "        fpr_val = 0\n",
        "        if TP > 0:\n",
        "            tpr_val = TP/(FN+TP)\n",
        "        if TN > 0:\n",
        "            fpr_val = TN/(FP+TN)\n",
        "\n",
        "        tpr_list.append(tpr_val)\n",
        "        fpr_list.append(fpr_val)\n",
        "\n",
        "    return np.array(tpr_list), np.array(fpr_list)\n",
        "\n",
        "tpr_list = []\n",
        "fpr_list = []\n",
        "\n",
        "TPR, FPR = compute_tpr_fpr(data, tpr_list, fpr_list)\n",
        "\n",
        "# computing auc score\n",
        "auc_score = np.trapz(TPR,FPR)\n",
        "print(\"AUC-Score : \", auc_score)\n",
        "\n",
        "# plot roc curve\n",
        "def plot_roc(TPR, FPR, auc_score):  \n",
        "    plt.figure()\n",
        "    plt.plot(FPR, TPR, color='darkorange',\n",
        "            label='ROC curve (area = %0.2f)' % auc_score)\n",
        "\n",
        "    plt.xlabel('False Positive Rate')\n",
        "    plt.ylabel('True Positive Rate')\n",
        "    plt.title('ROC Curve')\n",
        "    plt.legend(loc=4)\n",
        "    plt.show()\n",
        "\n",
        "import matplotlib.pyplot as plt\n",
        "plot_roc(1-TPR, FPR, auc_score)\n"
      ],
      "execution_count": 21,
      "outputs": [
        {
          "output_type": "stream",
          "text": [
            "Confusion matrix :  [[0, 0], [100, 10000]]\n",
            "Precision :  0.9900990099009901\n",
            "Recall :  1.0\n",
            "F1-Score :  0.9950248756218906\n",
            "Accuracy :  0.9900990099009901\n",
            "AUC-Score :  0.48829900000000004\n"
          ],
          "name": "stdout"
        },
        {
          "output_type": "display_data",
          "data": {
            "image/png": "[encoded data removed]",
            "text/plain": [
              "<Figure size 432x288 with 1 Axes>"
            ]
          },
          "metadata": {
            "tags": []
          }
        }
      ]
    },
    {
      "cell_type": "markdown",
      "metadata": {
        "colab_type": "text",
        "id": "V5KZem1BQvn2"
      },
      "source": [
        "<pre>\n",
        "<font color='red'><b>B.</b></font> Compute performance metrics for the given data <strong>5_b.csv</strong>\n",
        "   <b>Note 1:</b> in this data you can see number of positive points << number of negatives points\n",
        "   <b>Note 2:</b> use pandas or numpy to read the data from <b>5_b.csv</b>\n",
        "   <b>Note 3:</b> you need to derive the class labels from given score</pre> $y^{pred}= \\text{[0 if y_score < 0.5 else 1]}$\n",
        "\n",
        "<pre>\n",
        "<ol>\n",
        "<li> Compute Confusion Matrix </li>\n",
        "<li> Compute F1 Score </li>\n",
        "<li> Compute AUC Score, you need to compute different thresholds and for each threshold compute tpr,fpr and then use               numpy.trapz(tpr_array, fpr_array) <a href='https://stackoverflow.com/q/53603376/4084039'>https://stackoverflow.com/q/53603376/4084039</a>, <a href='https://stackoverflow.com/a/39678975/4084039'>https://stackoverflow.com/a/39678975/4084039</a></li>\n",
        "<li> Compute Accuracy Score </li>\n",
        "</ol>\n",
        "</pre>"
      ]
    },
    {
      "cell_type": "code",
      "metadata": {
        "colab_type": "code",
        "id": "U2sKlq0YQvn5",
        "outputId": "2a9a9273-1356-4755-e11e-9be7c42d7c2b",
        "colab": {
          "base_uri": "https://localhost:8080/",
          "height": 397
        }
      },
      "source": [
        "# write your code\n",
        "data1 = pd.read_csv('5_b.csv')\n",
        "\n",
        "# appending new data frame y_ as predicted values from probability score\n",
        "list1 = np.zeros(data1.shape[0])\n",
        "\n",
        "idx = 0\n",
        "for index, row in data1.iterrows():\n",
        "    if row['proba'] >= 0.5:\n",
        "        list1[idx] = 1\n",
        "    idx += 1\n",
        "\n",
        "data1['y_'] = list1\n",
        "\n",
        "# new dataframe with only y and y_\n",
        "df1 = data1[['y', 'y_']]\n",
        "\n",
        "# computing metrics\n",
        "confusion_matrix1, precision1, recall1, f1_score1, accuracy1 = compute_metrics(df1)\n",
        "\n",
        "print(\"Confusion matrix : \", confusion_matrix1)\n",
        "print(\"Precision : \", precision1)\n",
        "print(\"Recall : \", recall1)\n",
        "print(\"F1-Score : \", f1_score1)\n",
        "print(\"Accuracy : \", accuracy1)\n",
        "\n",
        "# sorting dataframe according to proba column in ascending order\n",
        "data1.sort_values(\"proba\", axis=0, ascending=True, inplace=True)\n",
        "\n",
        "tpr_list1 = []\n",
        "fpr_list1 = []\n",
        "\n",
        "# computing tpr and fpr\n",
        "TPR1, FPR1 = compute_tpr_fpr(data1, tpr_list1, fpr_list1)\n",
        "\n",
        "# computing auc score\n",
        "auc_score1 = np.trapz(TPR1,FPR1)\n",
        "print(\"AUC-Score : \", auc_score1)\n",
        "\n",
        "# plotting the roc curve based on tpr and fpr list\n",
        "plot_roc(TPR1, 1-FPR1, auc_score1)"
      ],
      "execution_count": 22,
      "outputs": [
        {
          "output_type": "stream",
          "text": [
            "Confusion matrix :  [[9761, 45], [239, 55]]\n",
            "Precision :  0.1870748299319728\n",
            "Recall :  0.55\n",
            "F1-Score :  0.2791878172588833\n",
            "Accuracy :  0.9718811881188119\n",
            "AUC-Score :  0.937657\n"
          ],
          "name": "stdout"
        },
        {
          "output_type": "display_data",
          "data": {
            "image/png": "[encoded data removed]",
            "text/plain": [
              "<Figure size 432x288 with 1 Axes>"
            ]
          },
          "metadata": {
            "tags": []
          }
        }
      ]
    },
    {
      "cell_type": "markdown",
      "metadata": {
        "colab_type": "text",
        "id": "GiPGonTzQvoB"
      },
      "source": [
        "<font color='red'><b>C.</b></font> Compute the best threshold (similarly to ROC curve computation) of probability which gives lowest values of metric <b>A</b> for the given data <strong>5_c.csv</strong>\n",
        "<br>\n",
        "\n",
        "you will be predicting label of a data points like this: $y^{pred}= \\text{[0 if y_score < threshold  else 1]}$\n",
        "\n",
        "$ A = 500 \\times \\text{number of false negative} + 100 \\times \\text{numebr of false positive}$\n",
        "\n",
        "<pre>\n",
        "   <b>Note 1:</b> in this data you can see number of negative points > number of positive points\n",
        "   <b>Note 2:</b> use pandas or numpy to read the data from <b>5_c.csv</b>\n",
        "</pre>"
      ]
    },
    {
      "cell_type": "code",
      "metadata": {
        "colab_type": "code",
        "id": "x5HIJzq1QvoE",
        "outputId": "eebebbf3-5b43-4d78-b0c8-9dd71790c372",
        "colab": {
          "base_uri": "https://localhost:8080/",
          "height": 51
        }
      },
      "source": [
        "data2 = pd.read_csv('5_c.csv')   \n",
        "\n",
        "# sort according to prob column\n",
        "data2.sort_values([\"prob\"], inplace=True)\n",
        "\n",
        "A = 0\n",
        "flag = 0 \n",
        "best_threshold_value = 0\n",
        "\n",
        "for i in range(len(data2)):\n",
        "    FP = FN = 0\n",
        "    data2['y_'] = np.where(data2['prob']<=data2.iloc[i][1],0,1)\n",
        "      \n",
        "    FN = len(data2[(data2['y'] == 1) & (data2['y_'] == 0)])\n",
        "    FP = len(data2[(data2['y'] == 0) & (data2['y_'] == 1)])\n",
        "        \n",
        "    value = int(500 * FN) + int(100 * FP)\n",
        "        \n",
        "    if flag == 0 or value < A:\n",
        "        A = value\n",
        "        best_threshold_value = data2['prob'][i]\n",
        "        flag = 1\n",
        "\n",
        "print(\"Final value of A : \", A)\n",
        "print(\"Best threshold value : \", best_threshold_value)\n"
      ],
      "execution_count": 26,
      "outputs": [
        {
          "output_type": "stream",
          "text": [
            "Final value of A :  141000\n",
            "Best threshold value :  0.25002762775968856\n"
          ],
          "name": "stdout"
        }
      ]
    },
    {
      "cell_type": "markdown",
      "metadata": {
        "colab_type": "text",
        "id": "sD4CcgjXQvoL"
      },
      "source": [
        "<pre>\n",
        "<font color='red'><b>D.</b></font> Compute performance metrics(for regression) for the given data <strong>5_d.csv</strong>\n",
        "    <b>Note 2:</b> use pandas or numpy to read the data from <b>5_d.csv</b>\n",
        "    <b>Note 1:</b> <b>5_d.csv</b> will having two columns Y and predicted_Y both are real valued features\n",
        "<ol>\n",
        "<li> Compute Mean Square Error </li>\n",
        "<li> Compute MAPE: https://www.youtube.com/watch?v=ly6ztgIkUxk</li>\n",
        "<li> Compute R^2 error: https://en.wikipedia.org/wiki/Coefficient_of_determination#Definitions </li>\n",
        "</ol>\n",
        "</pre>"
      ]
    },
    {
      "cell_type": "code",
      "metadata": {
        "id": "nXQB8epOVJBV",
        "colab_type": "code",
        "outputId": "ab051416-dccc-44ad-a1fe-80654d58165e",
        "colab": {
          "base_uri": "https://localhost:8080/",
          "height": 68
        }
      },
      "source": [
        "# write your code\n",
        "data3 = pd.read_csv('5_d.csv')   \n",
        "data3\n",
        "\n",
        "# mse = (np.square(data3['y'] - data3['pred'])).mean(axis=0)\n",
        "# print(mse)\n",
        "\n",
        "# calculating mean squared error\n",
        "error = 0\n",
        "for i in range(data3.shape[0]):\n",
        "    error += ((data3['y'][i] - data3['pred'][i]) * (data3['y'][i] - data3['pred'][i]))\n",
        "\n",
        "mse = error / data3.shape[0]\n",
        "print(\"Mean squared error : \", mse)\n",
        "\n",
        "# computing MAPE\n",
        "mape = 0\n",
        "error1 = 0\n",
        "actual = 0\n",
        "for i in range(data3.shape[0]):\n",
        "    error1 += abs(data3['y'][i] - data3['pred'][i])\n",
        "    actual += data3['y'][i]\n",
        "    \n",
        "mape = error1 / actual\n",
        "print(\"MAPE : \", mape)\n",
        "\n",
        "\n",
        "#compute ss_total\n",
        "mean_y = np.mean(data3['y'][i])\n",
        "#print(mean_y)\n",
        "\n",
        "error2 = 0\n",
        "for i in range(data3.shape[0]):\n",
        "    error2 += ((data3['y'][i] - mean_y) * (data3['y'][i] - mean_y))\n",
        "ss_total = error2 / data3.shape[0]\n",
        "\n",
        "# compute ss_residue\n",
        "error3 = 0\n",
        "for i in range(data3.shape[0]):\n",
        "    error3 += ((data3['y'][i] - data3['pred'][i]) * (data3['y'][i] - data3['pred'][i]))\n",
        "ss_res = error3 / data3.shape[0]\n",
        "\n",
        "# compute r_square\n",
        "r2 = 1 - (ss_res / ss_total)\n",
        "print(\"R_square : \", r2)"
      ],
      "execution_count": 27,
      "outputs": [
        {
          "output_type": "stream",
          "text": [
            "Mean squared error :  177.16569974554707\n",
            "MAPE :  0.1291202994009687\n",
            "R_square :  0.958489782478721\n"
          ],
          "name": "stdout"
        }
      ]
    }
  ]
}