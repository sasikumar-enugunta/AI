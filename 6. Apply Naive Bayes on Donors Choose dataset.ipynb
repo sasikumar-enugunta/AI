{
 "cells": [
  {
   "cell_type": "markdown",
   "metadata": {
    "colab_type": "text",
    "id": "Dnubs-Nnb3cw"
   },
   "source": [
    "# Assignment 6: Apply NB"
   ]
  },
  {
   "cell_type": "markdown",
   "metadata": {
    "colab_type": "text",
    "id": "12krXa2pb3c1"
   },
   "source": [
    "<ol>\n",
    "    <li><strong>Apply Multinomial NB on these feature sets</strong>\n",
    "        <ul>\n",
    "            <li><font color='red'>Set 1</font>: categorical, numerical features + preprocessed_eassay (BOW)</li>\n",
    "            <li><font color='red'>Set 2</font>: categorical, numerical features + preprocessed_eassay (TFIDF)</li>\n",
    "        </ul>\n",
    "    </li>\n",
    "    <li><strong>The hyper paramter tuning(find best alpha:smoothing parameter)</strong>\n",
    "        <ul>\n",
    "    <li>Find the best hyper parameter which will give the maximum <a href='https://www.appliedaicourse.com/course/applied-ai-course-online/lessons/receiver-operating-characteristic-curve-roc-curve-and-auc-1/'>AUC</a> value</li>\n",
    "    <li>find the best hyper paramter using k-fold cross validation(use GridsearchCV or RandomsearchCV)/simple cross validation data (write for loop to iterate over hyper parameter values)</li>\n",
    "    <li></li>\n",
    "        </ul>\n",
    "    </li>\n",
    "    <li>\n",
    "    <strong>Representation of results</strong>\n",
    "        <ul>\n",
    "    <li>You need to plot the performance of model both on train data and cross validation data for each hyper parameter, like shown in the figure\n",
    "    <img src='https://i.imgur.com/hUv6aEy.jpg' width=300px></li>\n",
    "    <li>Once after you found the best hyper parameter, you need to train your model with it, and find the AUC on test data and plot the ROC curve on both train and test.\n",
    "    <img src='https://i.imgur.com/wMQDTFe.jpg' width=300px></li>\n",
    "    <li>Along with plotting ROC curve, you need to print the <a href='https://www.appliedaicourse.com/course/applied-ai-course-online/lessons/confusion-matrix-tpr-fpr-fnr-tnr-1/'>confusion matrix</a> with predicted and original labels of test data points\n",
    "    <img src='https://i.imgur.com/IdN5Ctv.png' width=300px></li>\n",
    "        </ul>\n",
    "    </li>\n",
    "    <li>\n",
    "fine the top 20 features from either from feature <font color='red'>Set 1</font> or feature <font color='red'>Set 2</font> using absolute values of `feature_log_prob_ ` parameter of `MultinomialNB` \n",
    "(https://scikit-learn.org/stable/modules/generated/sklearn.naive_bayes.MultinomialNB.html) and print their corresponding feature names\n",
    "    </li>\n",
    "    <li>You need to summarize the results at the end of the notebook, summarize it in the table format\n",
    "        <img src='http://i.imgur.com/YVpIGGE.jpg' width=400px>\n",
    "    </li>\n",
    "</ol>"
   ]
  },
  {
   "cell_type": "markdown",
   "metadata": {
    "colab_type": "text",
    "id": "inzYCIaib3c3"
   },
   "source": [
    "<h1>2. Naive Bayes </h1>"
   ]
  },
  {
   "cell_type": "markdown",
   "metadata": {
    "colab_type": "text",
    "id": "FYqCIxzFb3c5"
   },
   "source": [
    "## 1.1 Loading Data"
   ]
  },
  {
   "cell_type": "code",
   "execution_count": 2,
   "metadata": {
    "colab": {},
    "colab_type": "code",
    "id": "dA1jknyqb3c_"
   },
   "outputs": [],
   "source": [
    "import pandas\n",
    "data = pandas.read_csv('preprocessed_data.csv', nrows=50000)"
   ]
  },
  {
   "cell_type": "markdown",
   "metadata": {
    "colab_type": "text",
    "id": "WtVV13Fyb3dH"
   },
   "source": [
    "<h2>1.2 Splitting data into Train and cross validation(or test): Stratified Sampling</h2>"
   ]
  },
  {
   "cell_type": "code",
   "execution_count": 3,
   "metadata": {
    "colab": {},
    "colab_type": "code",
    "id": "i-PyprDNb3dI"
   },
   "outputs": [
    {
     "name": "stdout",
     "output_type": "stream",
     "text": [
      "(22445, 8) (22445,)\n",
      "(11055, 8) (11055,)\n",
      "(16500, 8) (16500,)\n",
      "==================================================\n"
     ]
    }
   ],
   "source": [
    "# please write all the code with proper documentation, and proper titles for each subsection\n",
    "# go through documentations and blogs before you start coding\n",
    "# first figure out what to do, and then think about how to do.\n",
    "# reading and understanding error messages will be very much helpfull in debugging your code\n",
    "# when you plot any graph make sure you use \n",
    "    # a. Title, that describes your plot, this will be very helpful to the reader\n",
    "    # b. Legends if needed\n",
    "    # c. X-axis label\n",
    "    # d. Y-axis label\n",
    "\n",
    "from sklearn.feature_extraction.text import TfidfVectorizer\n",
    "from sklearn.feature_extraction.text import CountVectorizer\n",
    "from sklearn.metrics import confusion_matrix, roc_curve, auc\n",
    "from sklearn.model_selection import train_test_split\n",
    "from sklearn.preprocessing import Normalizer\n",
    "from sklearn.model_selection import GridSearchCV\n",
    "from sklearn.naive_bayes import MultinomialNB\n",
    "\n",
    "import pandas as pd\n",
    "import numpy as np\n",
    "from tqdm import tqdm\n",
    "from scipy.sparse import hstack\n",
    "    \n",
    "y = data['project_is_approved'].values\n",
    "X = data.drop(['project_is_approved'], axis=1)\n",
    "\n",
    "X_train, X_test, y_train, y_test = train_test_split(X, y, test_size=0.33, stratify=y)\n",
    "X_train, X_cv, y_train, y_cv = train_test_split(X_train, y_train, test_size=0.33, stratify=y_train)\n",
    "\n",
    "print(X_train.shape, y_train.shape)\n",
    "print(X_cv.shape, y_cv.shape)\n",
    "print(X_test.shape, y_test.shape)\n",
    "\n",
    "print(\"=\"*50)"
   ]
  },
  {
   "cell_type": "markdown",
   "metadata": {
    "colab_type": "text",
    "id": "EnZwVNULb3dO"
   },
   "source": [
    "<h2>1.3 Make Data Model Ready: encoding eassay, and project_title</h2>"
   ]
  },
  {
   "cell_type": "code",
   "execution_count": 4,
   "metadata": {
    "colab": {},
    "colab_type": "code",
    "id": "-SczZKiab3dR"
   },
   "outputs": [
    {
     "name": "stdout",
     "output_type": "stream",
     "text": [
      "(22445, 8817) (22445,)\n",
      "(11055, 8817) (11055,)\n",
      "(16500, 8817) (16500,)\n",
      "==================================================\n",
      "(22445, 8817) (22445,)\n",
      "(11055, 8817) (11055,)\n",
      "(16500, 8817) (16500,)\n",
      "==================================================\n"
     ]
    }
   ],
   "source": [
    "# please write all the code with proper documentation, and proper titles for each subsection\n",
    "# go through documentations and blogs before you start coding\n",
    "# first figure out what to do, and then think about how to do.\n",
    "# reading and understanding error messages will be very much helpfull in debugging your code\n",
    "# make sure you featurize train and test data separatly\n",
    "\n",
    "# when you plot any graph make sure you use \n",
    "#     a. Title, that describes your plot, this will be very helpful to the reader\n",
    "#     b. Legends if needed\n",
    "#     c. X-axis label\n",
    "#     d. Y-axis label\n",
    " \n",
    "# Encoding essay with bow\n",
    "\n",
    "vectorizer_bow = CountVectorizer(min_df=10)\n",
    "vectorizer_bow.fit(X_train['essay'].values)\n",
    "\n",
    "X_train_essay_bow = vectorizer_bow.transform(X_train['essay'].values)\n",
    "X_cv_essay_bow = vectorizer_bow.transform(X_cv['essay'].values)\n",
    "X_test_essay_bow = vectorizer_bow.transform(X_test['essay'].values)\n",
    "\n",
    "print(X_train_essay_bow.shape, y_train.shape)\n",
    "print(X_cv_essay_bow.shape, y_cv.shape)\n",
    "print(X_test_essay_bow.shape, y_test.shape)\n",
    "\n",
    "print(\"=\"*50)\n",
    "\n",
    "# Encoding essay with tfidf\n",
    "\n",
    "vectorizer_tfidf = TfidfVectorizer(min_df=10)\n",
    "vectorizer_tfidf.fit(X_train['essay'].values)\n",
    "\n",
    "X_train_essay_tfidf = vectorizer_tfidf.transform(X_train['essay'].values)\n",
    "X_cv_essay_tfidf = vectorizer_tfidf.transform(X_cv['essay'].values)\n",
    "X_test_essay_tfidf = vectorizer_tfidf.transform(X_test['essay'].values)\n",
    "\n",
    "print(X_train_essay_tfidf.shape, y_train.shape)\n",
    "print(X_cv_essay_tfidf.shape, y_cv.shape)\n",
    "print(X_test_essay_tfidf.shape, y_test.shape)\n",
    "\n",
    "print(\"=\"*50)"
   ]
  },
  {
   "cell_type": "markdown",
   "metadata": {
    "colab_type": "text",
    "id": "bGy86kgHb3dX"
   },
   "source": [
    "<h2>1.4 Make Data Model Ready: encoding numerical, categorical features</h2>"
   ]
  },
  {
   "cell_type": "code",
   "execution_count": 6,
   "metadata": {
    "colab": {},
    "colab_type": "code",
    "id": "EfXkofX1b3da"
   },
   "outputs": [
    {
     "name": "stdout",
     "output_type": "stream",
     "text": [
      "(22445, 51) (22445,)\n",
      "(11055, 51) (11055,)\n",
      "(16500, 51) (16500,)\n",
      "==================================================\n",
      "(22445, 5) (22445,)\n",
      "(11055, 5) (11055,)\n",
      "(16500, 5) (16500,)\n",
      "==================================================\n",
      "(22445, 4) (22445,)\n",
      "(11055, 4) (11055,)\n",
      "(16500, 4) (16500,)\n",
      "==================================================\n",
      "(22445, 9) (22445,)\n",
      "(11055, 9) (11055,)\n",
      "(16500, 9) (16500,)\n",
      "==================================================\n",
      "(22445, 30) (22445,)\n",
      "(11055, 30) (11055,)\n",
      "(16500, 30) (16500,)\n",
      "====================================================================================================\n",
      "(22445, 1) (22445,)\n",
      "(11055, 1) (11055,)\n",
      "(16500, 1) (16500,)\n",
      "==================================================\n",
      "(22445, 1) (22445,)\n",
      "(11055, 1) (11055,)\n",
      "(16500, 1) (16500,)\n",
      "====================================================================================================\n"
     ]
    }
   ],
   "source": [
    "# please write all the code with proper documentation, and proper titles for each subsection\n",
    "# go through documentations and blogs before you start coding \n",
    "# first figure out what to do, and then think about how to do.\n",
    "# reading and understanding error messages will be very much helpfull in debugging your code\n",
    "# make sure you featurize train and test data separatly\n",
    "\n",
    "# when you plot any graph make sure you use \n",
    "    # a. Title, that describes your plot, this will be very helpful to the reader\n",
    "    # b. Legends if needed\n",
    "    # c. X-axis label\n",
    "    # d. Y-axis label\n",
    "    \n",
    "# Encoding categorical features with bow\n",
    "\n",
    "vectorizer1 = CountVectorizer()\n",
    "vectorizer1.fit(X_train['school_state'].values)\n",
    "\n",
    "X_train_state = vectorizer1.transform(X_train['school_state'].values)\n",
    "X_cv_state = vectorizer1.transform(X_cv['school_state'].values)\n",
    "X_test_state = vectorizer1.transform(X_test['school_state'].values)\n",
    "\n",
    "print(X_train_state.shape, y_train.shape)\n",
    "print(X_cv_state.shape, y_cv.shape)\n",
    "print(X_test_state.shape, y_test.shape)\n",
    "\n",
    "print(\"=\"*50)\n",
    "\n",
    "vectorizer2 = CountVectorizer()\n",
    "vectorizer2.fit(X_train['teacher_prefix'].values)\n",
    "\n",
    "X_train_teacher_prefix = vectorizer2.transform(X_train['teacher_prefix'].values)\n",
    "X_cv_teacher_prefix = vectorizer2.transform(X_cv['teacher_prefix'].values)\n",
    "X_test_teacher_prefix = vectorizer2.transform(X_test['teacher_prefix'].values)\n",
    "\n",
    "print(X_train_teacher_prefix.shape, y_train.shape)\n",
    "print(X_cv_teacher_prefix.shape, y_cv.shape)\n",
    "print(X_test_teacher_prefix.shape, y_test.shape)\n",
    "\n",
    "print(\"=\"*50)\n",
    "\n",
    "vectorizer3 = CountVectorizer()\n",
    "vectorizer3.fit(X_train['project_grade_category'].values)\n",
    "\n",
    "X_train_project_grade = vectorizer3.transform(X_train['project_grade_category'].values)\n",
    "X_cv_project_grade = vectorizer3.transform(X_cv['project_grade_category'].values)\n",
    "X_test_project_grade = vectorizer3.transform(X_test['project_grade_category'].values)\n",
    "\n",
    "print(X_train_project_grade.shape, y_train.shape)\n",
    "print(X_cv_project_grade.shape, y_cv.shape)\n",
    "print(X_test_project_grade.shape, y_test.shape)\n",
    "\n",
    "print(\"=\"*50)\n",
    "\n",
    "vectorizer4 = CountVectorizer()\n",
    "vectorizer4.fit(X_train['clean_categories'].values)\n",
    "\n",
    "X_train_clean_cat = vectorizer4.transform(X_train['clean_categories'].values)\n",
    "X_cv_clean_cat = vectorizer4.transform(X_cv['clean_categories'].values)\n",
    "X_test_clean_cat = vectorizer4.transform(X_test['clean_categories'].values)\n",
    "\n",
    "print(X_train_clean_cat.shape, y_train.shape)\n",
    "print(X_cv_clean_cat.shape, y_cv.shape)\n",
    "print(X_test_clean_cat.shape, y_test.shape)\n",
    "\n",
    "print(\"=\"*50)\n",
    "\n",
    "vectorizer5 = CountVectorizer()\n",
    "vectorizer5.fit(X_train['clean_subcategories'].values)\n",
    "\n",
    "X_train_clean_subcat = vectorizer5.transform(X_train['clean_subcategories'].values)\n",
    "X_cv_clean_subcat = vectorizer5.transform(X_cv['clean_subcategories'].values)\n",
    "X_test_clean_subcat = vectorizer5.transform(X_test['clean_subcategories'].values)\n",
    "\n",
    "print(X_train_clean_subcat.shape, y_train.shape)\n",
    "print(X_cv_clean_subcat.shape, y_cv.shape)\n",
    "print(X_test_clean_subcat.shape, y_test.shape)\n",
    "\n",
    "print(\"=\"*100)\n",
    "\n",
    "# Encoding numberical features\n",
    "\n",
    "normalizer = Normalizer()\n",
    "normalizer.fit(X_train['teacher_number_of_previously_posted_projects'].values.reshape(-1,1))\n",
    "\n",
    "X_train_teacher_previously_posted = normalizer.transform(X_train['teacher_number_of_previously_posted_projects'].values.reshape(-1,1))\n",
    "X_cv_teacher_previously_posted = normalizer.transform(X_cv['teacher_number_of_previously_posted_projects'].values.reshape(-1,1))\n",
    "X_test_teacher_previously_posted = normalizer.transform(X_test['teacher_number_of_previously_posted_projects'].values.reshape(-1,1))\n",
    "\n",
    "print(X_train_teacher_previously_posted.shape, y_train.shape)\n",
    "print(X_cv_teacher_previously_posted.shape, y_cv.shape)\n",
    "print(X_test_teacher_previously_posted.shape, y_test.shape)\n",
    "\n",
    "print(\"=\"*50)\n",
    "\n",
    "normalizer1 = Normalizer()\n",
    "normalizer1.fit(X_train['price'].values.reshape(-1,1))\n",
    "\n",
    "X_train_price = normalizer1.transform(X_train['price'].values.reshape(-1,1))\n",
    "X_cv_price = normalizer1.transform(X_cv['price'].values.reshape(-1,1))\n",
    "X_test_price = normalizer1.transform(X_test['price'].values.reshape(-1,1))\n",
    "\n",
    "print(X_train_price.shape, y_train.shape)\n",
    "print(X_cv_price.shape, y_cv.shape)\n",
    "print(X_test_price.shape, y_test.shape)\n",
    "\n",
    "print(\"=\"*100)\n"
   ]
  },
  {
   "cell_type": "markdown",
   "metadata": {
    "colab_type": "text",
    "id": "yYHPYadYb3dh"
   },
   "source": [
    "<h2>1.5 Appling NB on different kind of featurization as mentioned in the instructions</h2>\n",
    "\n",
    "<br>Apply NB on different kind of featurization as mentioned in the instructions\n",
    "<br> For Every model that you work on make sure you do the step 2 and step 3 of instrucations"
   ]
  },
  {
   "cell_type": "code",
   "execution_count": 7,
   "metadata": {
    "colab": {},
    "colab_type": "code",
    "id": "DNwqilFxb3di"
   },
   "outputs": [
    {
     "name": "stdout",
     "output_type": "stream",
     "text": [
      "(22445, 8918)\n",
      "(16500, 8918)\n",
      "==================================================\n",
      "(22445, 8918)\n",
      "(16500, 8918)\n",
      "====================================================================================================\n"
     ]
    }
   ],
   "source": [
    "# please write all the code with proper documentation, and proper titles for each subsection\n",
    "# go through documentations and blogs before you start coding\n",
    "# first figure out what to do, and then think about how to do.\n",
    "# reading and understanding error messages will be very much helpfull in debugging your code\n",
    "# when you plot any graph make sure you use \n",
    "    # a. Title, that describes your plot, this will be very helpful to the reader\n",
    "    # b. Legends if needed\n",
    "    # c. X-axis label\n",
    "    # d. Y-axis label\n",
    "    \n",
    "X_train_bow = hstack((X_train_state, X_train_teacher_prefix, X_train_project_grade, X_train_teacher_previously_posted, X_train_clean_cat, X_train_clean_subcat, X_train_price, X_train_essay_bow)).tocsr()\n",
    "\n",
    "X_test_bow = hstack((X_test_state, X_test_teacher_prefix, X_test_project_grade, X_test_teacher_previously_posted, X_test_clean_cat, X_test_clean_subcat, X_test_price, X_test_essay_bow)).tocsr()\n",
    "\n",
    "print(X_train_bow.shape)\n",
    "print(X_test_bow.shape)\n",
    "\n",
    "print(\"=\"*50)\n",
    "\n",
    "X_train_tfidf = hstack((X_train_state, X_train_teacher_prefix, X_train_project_grade, X_train_teacher_previously_posted, X_train_clean_cat, X_train_clean_subcat, X_train_price, X_train_essay_tfidf)).tocsr()\n",
    "\n",
    "X_test_tfidf = hstack((X_test_state, X_test_teacher_prefix, X_test_project_grade, X_test_teacher_previously_posted, X_test_clean_cat, X_test_clean_subcat, X_test_price, X_test_essay_tfidf)).tocsr()\n",
    "\n",
    "print(X_train_tfidf.shape)\n",
    "print(X_test_tfidf.shape)\n",
    "\n",
    "print(\"=\"*100)\n"
   ]
  },
  {
   "cell_type": "code",
   "execution_count": 10,
   "metadata": {},
   "outputs": [
    {
     "name": "stdout",
     "output_type": "stream",
     "text": [
      "Best score:  0.6957702377589909\n",
      "Best alpha:  {'alpha': 0.5}\n"
     ]
    },
    {
     "data": {
      "image/png": "[encoded data removed]",
      "text/plain": [
       "<Figure size 432x288 with 1 Axes>"
      ]
     },
     "metadata": {},
     "output_type": "display_data"
    }
   ],
   "source": [
    "import matplotlib.pyplot as plt\n",
    "\n",
    "params = {'alpha':[0.00001, 0.0001, 0.001, 0.01, 0.1, 0.5, 1, 5, 10, 25, 50, 100, 250, 500, 1000]}\n",
    "\n",
    "model = GridSearchCV(MultinomialNB(class_prior=[0.5,0.5]), params, cv=10, scoring='roc_auc', return_train_score=True)\n",
    "\n",
    "model.fit(X_train_bow, y_train)\n",
    "\n",
    "train_auc= model.cv_results_['mean_train_score']\n",
    "cv_auc = model.cv_results_['mean_test_score'] \n",
    "\n",
    "print('Best score: ',model.best_score_)\n",
    "print('Best alpha: ',model.best_params_)\n",
    "\n",
    "plt.plot(params['alpha'], train_auc, label='Train AUC')\n",
    "plt.plot(params['alpha'], cv_auc, label='Validation AUC')\n",
    "plt.title('Hyper-parameter VS accuracy plot')\n",
    "plt.legend()\n",
    "plt.xlabel(\"Hyper Parameter\")\n",
    "plt.ylabel(\"Area Under ROC Curve\")\n",
    "plt.xscale('log')\n",
    "plt.grid()\n",
    "plt.show()\n"
   ]
  },
  {
   "cell_type": "code",
   "execution_count": 11,
   "metadata": {},
   "outputs": [
    {
     "data": {
      "image/png": "[encoded data removed]",
      "text/plain": [
       "<Figure size 432x288 with 1 Axes>"
      ]
     },
     "metadata": {},
     "output_type": "display_data"
    }
   ],
   "source": [
    "naive_bayes_bow = MultinomialNB(alpha=0.5)\n",
    "\n",
    "naive_bayes_bow.fit(X_train_bow, y_train)\n",
    "\n",
    "y_train_pred = naive_bayes_bow.predict_proba(X_train_bow)[:,1]\n",
    "y_test_pred = naive_bayes_bow.predict_proba(X_test_bow)[:,1]\n",
    "\n",
    "train_fpr, train_tpr, tr_thresholds = roc_curve(y_train, y_train_pred)\n",
    "test_fpr, test_tpr, te_thresholds = roc_curve(y_test, y_test_pred)\n",
    "\n",
    "plt.plot(train_fpr, train_tpr, label=\"Train AUC =\" + str(auc(train_fpr, train_tpr)))\n",
    "plt.plot(test_fpr, test_tpr, label=\"Test AUC = \" + str(auc(test_fpr, test_tpr)))\n",
    "plt.legend()\n",
    "plt.xlabel(\"K: hyperparameter\")\n",
    "plt.ylabel(\"AUC\")\n",
    "plt.title(\"ERROR PLOTS\")\n",
    "plt.grid()\n",
    "plt.show()"
   ]
  },
  {
   "cell_type": "code",
   "execution_count": 12,
   "metadata": {},
   "outputs": [],
   "source": [
    "# we are writing our own function for predict, with defined thresould\n",
    "# we will pick a threshold that will give the least fpr\n",
    "def find_best_threshold(threshould, fpr, tpr):\n",
    "    t = threshould[np.argmax(tpr*(1-fpr))]\n",
    "    # (tpr*(1-fpr)) will be maximum if your fpr is very low and tpr is very high\n",
    "    print(\"the maximum value of tpr*(1-fpr)\", max(tpr*(1-fpr)), \"for threshold\", np.round(t,3))\n",
    "    return t\n",
    "\n",
    "def predict_with_best_t(proba, threshould):\n",
    "    predictions = []\n",
    "    for i in proba:\n",
    "        if i>=threshould:\n",
    "            predictions.append(1)\n",
    "        else:\n",
    "            predictions.append(0)\n",
    "    return predictions"
   ]
  },
  {
   "cell_type": "code",
   "execution_count": 13,
   "metadata": {},
   "outputs": [
    {
     "name": "stdout",
     "output_type": "stream",
     "text": [
      "the maximum value of tpr*(1-fpr) 0.5623743705337874 for threshold 0.781\n",
      "Train confusion matrix\n",
      "[[ 2687   908]\n",
      " [ 4667 14183]]\n",
      "Test confusion matrix\n",
      "[[ 1462  1180]\n",
      " [ 3800 10058]]\n"
     ]
    }
   ],
   "source": [
    "best_t = find_best_threshold(tr_thresholds, train_fpr, train_tpr)\n",
    "print(\"Train confusion matrix\")\n",
    "print(confusion_matrix(y_train, predict_with_best_t(y_train_pred, best_t)))\n",
    "print(\"Test confusion matrix\")\n",
    "print(confusion_matrix(y_test, predict_with_best_t(y_test_pred, best_t)))"
   ]
  },
  {
   "cell_type": "code",
   "execution_count": 25,
   "metadata": {},
   "outputs": [
    {
     "name": "stdout",
     "output_type": "stream",
     "text": [
      "Top 20 features:\n",
      "['surpass' 'sent' 'nightly' 'listeners' 'combine' 'tired' 'oh' 'tone'\n",
      " 'list' 'hopefully']\n",
      "['surpass' 'sent' 'listeners' 'nightly' 'combine' 'oh' 'list' 'hopefully'\n",
      " 'tone' 'tired']\n"
     ]
    }
   ],
   "source": [
    "bow_features = []\n",
    "\n",
    "for i in vectorizer_bow.get_feature_names():\n",
    "    bow_features.append(i)\n",
    "    \n",
    "for i in vectorizer1.get_feature_names():\n",
    "    bow_features.append(i)\n",
    "    \n",
    "for i in vectorizer2.get_feature_names():\n",
    "    bow_features.append(i)\n",
    "    \n",
    "for i in vectorizer3.get_feature_names():\n",
    "    bow_features.append(i)\n",
    "    \n",
    "for i in vectorizer4.get_feature_names():\n",
    "    bow_features.append(i)\n",
    "    \n",
    "for i in vectorizer5.get_feature_names():\n",
    "    bow_features.append(i)\n",
    "    \n",
    "bow_features.append(\"price\")\n",
    "bow_features.append(\"teacher_number_of_previously_posted_projects\")\n",
    "\n",
    "# https://stackoverflow.com/questions/50526898/how-to-get-feature-importance-in-naive-bayes\n",
    "top_10_pos_features = naive_bayes_bow.feature_log_prob_[1, :].argsort()\n",
    "top_10_neg_features = naive_bayes_bow.feature_log_prob_[0, :].argsort()\n",
    "\n",
    "top_10_pos_features = top_10_pos_features[::-1]\n",
    "top_10_neg_features = top_10_neg_features[::-1]   \n",
    "\n",
    "print('Top 20 features:')\n",
    "print(np.take(bow_features, top_10_pos_features[:10]))\n",
    "print(np.take(bow_features, top_10_neg_features[:10]))"
   ]
  },
  {
   "cell_type": "code",
   "execution_count": 26,
   "metadata": {},
   "outputs": [
    {
     "name": "stdout",
     "output_type": "stream",
     "text": [
      "Best score:  0.6649140971547041\n",
      "Best alpha:  {'alpha': 0.1}\n"
     ]
    },
    {
     "data": {
      "image/png": "[encoded data removed]",
      "text/plain": [
       "<Figure size 432x288 with 1 Axes>"
      ]
     },
     "metadata": {},
     "output_type": "display_data"
    }
   ],
   "source": [
    "params1 = {'alpha':[0.00001, 0.0001, 0.001, 0.01, 0.1, 0.5, 1, 5, 10, 25, 50, 100, 250, 500, 1000]}\n",
    "\n",
    "model1 = GridSearchCV(MultinomialNB( class_prior = [0.5, 0.5]), params1, cv=10, scoring='roc_auc', return_train_score=True)\n",
    "\n",
    "model1.fit(X_train_tfidf, y_train)\n",
    "\n",
    "train_auc1= model1.cv_results_['mean_train_score']\n",
    "cv_auc1 = model1.cv_results_['mean_test_score'] \n",
    "\n",
    "print('Best score: ',model1.best_score_)\n",
    "print('Best alpha: ',model1.best_params_)\n",
    "\n",
    "plt.plot(params1['alpha'],train_auc1, label='Train AUC')\n",
    "plt.plot(params1['alpha'],cv_auc1, label='Validation AUC')\n",
    "plt.title('Hyper-parameter VS accuracy plot')\n",
    "plt.legend()\n",
    "plt.xlabel(\"Hyper Parameter\")\n",
    "plt.ylabel(\"Area Under ROC Curve\")\n",
    "plt.xscale('log')\n",
    "plt.grid()\n",
    "plt.show()"
   ]
  },
  {
   "cell_type": "code",
   "execution_count": 27,
   "metadata": {},
   "outputs": [
    {
     "data": {
      "image/png": "[encoded data removed]",
      "text/plain": [
       "<Figure size 432x288 with 1 Axes>"
      ]
     },
     "metadata": {},
     "output_type": "display_data"
    }
   ],
   "source": [
    "naive_bayes_tfidf = MultinomialNB(alpha=0.1)\n",
    "\n",
    "naive_bayes_tfidf.fit(X_train_tfidf, y_train)\n",
    "\n",
    "y_train_pred1 = naive_bayes_tfidf.predict_proba(X_train_tfidf)[:,1]\n",
    "y_test_pred1 = naive_bayes_tfidf.predict_proba(X_test_tfidf)[:,1]\n",
    "\n",
    "train_fpr1, train_tpr1, tr_thresholds1 = roc_curve(y_train, y_train_pred1)\n",
    "test_fpr1, test_tpr1, te_thresholds1 = roc_curve(y_test, y_test_pred1)\n",
    "\n",
    "plt.plot(train_fpr1, train_tpr1, label=\"train AUC =\"+str(auc(train_fpr1, train_tpr1)))\n",
    "plt.plot(test_fpr1, test_tpr1, label=\"train AUC =\"+str(auc(test_fpr1, test_tpr1)))\n",
    "plt.legend()\n",
    "plt.xlabel(\"K: hyperparameter\")\n",
    "plt.ylabel(\"AUC\")\n",
    "plt.title(\"ERROR PLOTS\")\n",
    "plt.grid()\n",
    "plt.show()"
   ]
  },
  {
   "cell_type": "code",
   "execution_count": 28,
   "metadata": {},
   "outputs": [
    {
     "name": "stdout",
     "output_type": "stream",
     "text": [
      "the maximum value of tpr*(1-fpr) 0.5319171557903514 for threshold 0.836\n",
      "Train confusion matrix\n",
      "[[ 2583  1012]\n",
      " [ 4895 13955]]\n",
      "Test confusion matrix\n",
      "[[1377 1265]\n",
      " [4094 9764]]\n"
     ]
    }
   ],
   "source": [
    "best_t1 = find_best_threshold(tr_thresholds1, train_fpr1, train_tpr1)\n",
    "print(\"Train confusion matrix\")\n",
    "print(confusion_matrix(y_train, predict_with_best_t(y_train_pred1, best_t1)))\n",
    "print(\"Test confusion matrix\")\n",
    "print(confusion_matrix(y_test, predict_with_best_t(y_test_pred1, best_t1)))"
   ]
  },
  {
   "cell_type": "code",
   "execution_count": 31,
   "metadata": {},
   "outputs": [
    {
     "name": "stdout",
     "output_type": "stream",
     "text": [
      "Top 20 features:\n",
      "['58' '300' '26' '34' '30' '35' '27' '29' '4k' '50']\n",
      "['58' '300' '26' '34' '30' '35' '27' '29' '4k' '50']\n"
     ]
    }
   ],
   "source": [
    "tfidf_features = []\n",
    "\n",
    "for i in vectorizer_tfidf.get_feature_names():\n",
    "    tfidf_features.append(i)\n",
    "    \n",
    "for i in vectorizer1.get_feature_names():\n",
    "    tfidf_features.append(i)\n",
    "    \n",
    "for i in vectorizer2.get_feature_names():\n",
    "    tfidf_features.append(i)\n",
    "    \n",
    "for i in vectorizer3.get_feature_names():\n",
    "    tfidf_features.append(i)\n",
    "    \n",
    "for i in vectorizer4.get_feature_names():\n",
    "    tfidf_features.append(i)\n",
    "    \n",
    "for i in vectorizer5.get_feature_names():\n",
    "    tfidf_features.append(i)\n",
    "    \n",
    "tfidf_features.append(\"price\")\n",
    "tfidf_features.append(\"teacher_number_of_previously_posted_projects\")\n",
    "\n",
    "# https://stackoverflow.com/questions/50526898/how-to-get-feature-importance-in-naive-bayes\n",
    "top_10_pos_features = naive_bayes_tfidf.feature_log_prob_[1, :].argsort()\n",
    "top_10_neg_features = naive_bayes_tfidf.feature_log_prob_[0, :].argsort()\n",
    "\n",
    "top_10_pos_features = top_10_pos_features[::-1]\n",
    "top_10_neg_features = top_10_neg_features[::-1]   \n",
    "\n",
    "print('Top 20 features:')\n",
    "print(np.take(tfidf_features, top_10_pos_features[:10]))\n",
    "print(np.take(tfidf_features, top_10_neg_features[:10]))"
   ]
  },
  {
   "cell_type": "markdown",
   "metadata": {
    "colab_type": "text",
    "id": "lS9hIHdib3dp"
   },
   "source": [
    "<h1>3. Summary</h1>\n",
    "\n",
    "<br> as mentioned in the step 5 of instructions"
   ]
  },
  {
   "cell_type": "code",
   "execution_count": 32,
   "metadata": {},
   "outputs": [
    {
     "name": "stdout",
     "output_type": "stream",
     "text": [
      "+------------+-------------+-----------------+--------------------+\n",
      "| Vectorizer |    Model    | Hyper Parameter |        AUC         |\n",
      "+------------+-------------+-----------------+--------------------+\n",
      "|    BOW     | Naive Bayes |       0.5       | 0.6957702377589909 |\n",
      "|   TFIDF    | Naive Bayes |       0.1       | 0.6649140971547041 |\n",
      "+------------+-------------+-----------------+--------------------+\n"
     ]
    }
   ],
   "source": [
    "from prettytable import PrettyTable\n",
    "\n",
    "pt = PrettyTable()\n",
    "\n",
    "pt.field_names = [\"Vectorizer\", \"Model\", \"Hyper Parameter\", \"AUC\"]\n",
    "\n",
    "pt.add_row([\"BOW\", \"Naive Bayes\", model.best_params_['alpha'], model.best_score_])\n",
    "pt.add_row([\"TFIDF\", \"Naive Bayes\", model1.best_params_['alpha'], model1.best_score_])\n",
    "\n",
    "print(pt)"
   ]
  },
  {
   "cell_type": "code",
   "execution_count": null,
   "metadata": {},
   "outputs": [],
   "source": []
  }
 ],
 "metadata": {
  "colab": {
   "collapsed_sections": [],
   "name": "6_Assignment_NB_Instructions.ipynb",
   "provenance": [],
   "version": "0.3.2"
  },
  "kernelspec": {
   "display_name": "Python 3",
   "language": "python",
   "name": "python3"
  },
  "language_info": {
   "codemirror_mode": {
    "name": "ipython",
    "version": 3
   },
   "file_extension": ".py",
   "mimetype": "text/x-python",
   "name": "python",
   "nbconvert_exporter": "python",
   "pygments_lexer": "ipython3",
   "version": "3.6.5"
  }
 },
 "nbformat": 4,
 "nbformat_minor": 1
}
